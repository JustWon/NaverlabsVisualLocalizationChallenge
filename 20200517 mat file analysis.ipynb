{
 "cells": [
  {
   "cell_type": "code",
   "execution_count": 325,
   "metadata": {},
   "outputs": [],
   "source": [
    "from scipy.io import loadmat, savemat\n",
    "from collections import namedtuple"
   ]
  },
  {
   "cell_type": "code",
   "execution_count": 343,
   "metadata": {},
   "outputs": [],
   "source": [
    "dbStruct = namedtuple('dbStruct', ['whichSet', 'dataset', \n",
    "    'dbImage', 'utmDb', 'qImage', 'utmQ', 'numDb', 'numQ',\n",
    "    'posDistThr', 'posDistSqThr', 'nonTrivPosDistSqThr'])\n",
    "\n",
    "def parse_dbStruct(path):\n",
    "    mat = loadmat(path)\n",
    "    matStruct = mat['dbStruct'].item()\n",
    "\n",
    "    if '250k' in path.split('/')[-1]:\n",
    "        dataset = 'pitts250k'\n",
    "    else:\n",
    "        dataset = 'pitts30k'\n",
    "\n",
    "    whichSet = matStruct[0].item()\n",
    "\n",
    "    dbImage = [f[0].item() for f in matStruct[1]]\n",
    "    utmDb = matStruct[2].T\n",
    "\n",
    "    qImage = [f[0].item() for f in matStruct[3]]\n",
    "    utmQ = matStruct[4].T\n",
    "\n",
    "    numDb = matStruct[5].item()\n",
    "    numQ = matStruct[6].item()\n",
    "\n",
    "    posDistThr = matStruct[7].item()\n",
    "    posDistSqThr = matStruct[8].item()\n",
    "    nonTrivPosDistSqThr = matStruct[9].item()\n",
    "\n",
    "    return dbStruct(whichSet, dataset, dbImage, utmDb, qImage, \n",
    "            utmQ, numDb, numQ, posDistThr, \n",
    "            posDistSqThr, nonTrivPosDistSqThr)"
   ]
  },
  {
   "cell_type": "code",
   "execution_count": 413,
   "metadata": {},
   "outputs": [
    {
     "name": "stdout",
     "output_type": "stream",
     "text": [
      "whichSet val\n",
      "dataset pitts30k\n",
      "dbImage 10000\n",
      "utmDb 10000\n",
      "qImage 7608\n",
      "utmQ 7608\n",
      "numDb 10000\n",
      "numQ 7608\n",
      "posDistThr 25\n",
      "posDistSqThr 625\n",
      "nonTrivPosDistSqThr 100\n"
     ]
    }
   ],
   "source": [
    "val_dbStruct = parse_dbStruct('/home/ubuntu/Desktop/Pittsburgh/datasets/pitts30k_val.mat')\n",
    "print('whichSet', val_dbStruct[0])\n",
    "print('dataset', val_dbStruct[1])\n",
    "print('dbImage', len(val_dbStruct[2]))\n",
    "print('utmDb', len(val_dbStruct[3]))\n",
    "print('qImage', len(val_dbStruct[4]))\n",
    "print('utmQ', len(val_dbStruct[5]))\n",
    "print('numDb',val_dbStruct[6])\n",
    "print('numQ',val_dbStruct[7])\n",
    "print('posDistThr',val_dbStruct[8])\n",
    "print('posDistSqThr',val_dbStruct[9])\n",
    "print('nonTrivPosDistSqThr',val_dbStruct[10])"
   ]
  },
  {
   "cell_type": "code",
   "execution_count": 415,
   "metadata": {},
   "outputs": [
    {
     "name": "stdout",
     "output_type": "stream",
     "text": [
      "whichSet train\n",
      "dataset pitts30k\n",
      "dbImage 10000\n",
      "utmDb 10000\n",
      "qImage 7416\n",
      "utmQ 7416\n",
      "numDb 10000\n",
      "numQ 7416\n",
      "posDistThr 25\n",
      "posDistSqThr 625\n",
      "nonTrivPosDistSqThr 100\n"
     ]
    }
   ],
   "source": [
    "train_dbStruct = parse_dbStruct('/home/ubuntu/Desktop/Pittsburgh/datasets/pitts30k_train.mat')\n",
    "print('whichSet', train_dbStruct[0])\n",
    "print('dataset', train_dbStruct[1])\n",
    "print('dbImage', len(train_dbStruct[2]))\n",
    "print('utmDb', len(train_dbStruct[3]))\n",
    "print('qImage', len(train_dbStruct[4]))\n",
    "print('utmQ', len(train_dbStruct[5]))\n",
    "print('numDb',train_dbStruct[6])\n",
    "print('numQ',train_dbStruct[7])\n",
    "print('posDistThr',train_dbStruct[8])\n",
    "print('posDistSqThr',train_dbStruct[9])\n",
    "print('nonTrivPosDistSqThr',train_dbStruct[10])"
   ]
  },
  {
   "cell_type": "code",
   "execution_count": null,
   "metadata": {},
   "outputs": [],
   "source": []
  },
  {
   "cell_type": "code",
   "execution_count": 446,
   "metadata": {},
   "outputs": [],
   "source": [
    "def my_parse_dbStruct(_whichSet='train'):\n",
    "    whichSet = _whichSet\n",
    "    dataset = 'naverlabs'\n",
    "    image_path = '/home/ubuntu/Desktop/visual-localization-challenge-2020/indoor_dataset/1f/train/2019-04-16_14-35-00/images'\n",
    "    image_files_list = []\n",
    "    image_files_list.append(sorted(glob(os.path.join(image_path, '22970285_*.jpg'))))\n",
    "    image_files_list.append(sorted(glob(os.path.join(image_path, '22970286_*.jpg'))))\n",
    "    image_files_list.append(sorted(glob(os.path.join(image_path, '22970288_*.jpg'))))\n",
    "    image_files_list.append(sorted(glob(os.path.join(image_path, '22970289_*.jpg'))))\n",
    "    image_files = np.hstack(image_files_list)[:10000]\n",
    "    \n",
    "    dbImage = [os.path.join('images', image_file.split('/')[-1]) for image_file in image_files]\n",
    "    \n",
    "    gt_path = '/home/ubuntu/Desktop/visual-localization-challenge-2020/indoor_dataset/1f/train/2019-04-16_14-35-00/groundtruth.hdf5'\n",
    "    utmDb = []\n",
    "    with h5py.File(gt_path, \"r\") as f:\n",
    "        utmDb.append(np.array(f['22970285_pose']))\n",
    "        utmDb.append(np.array(f['22970286_pose']))\n",
    "        utmDb.append(np.array(f['22970288_pose']))\n",
    "        utmDb.append(np.array(f['22970289_pose']))   \n",
    "        utmDb = np.vstack(utmDb)[:10000,:2]\n",
    "\n",
    "    if whichSet=='train':\n",
    "        return dbStruct(whichSet, dataset, dbImage, utmDb, dbImage[:7320], utmDb[:7320], 10000, 7320, 2.5, 6.25, 10.0)\n",
    "    elif whichSet=='val':\n",
    "        return dbStruct(whichSet, dataset, dbImage, utmDb, dbImage[:7658], utmDb[:7658], 10000, 7658, 2.5, 6.25, 10.0)"
   ]
  },
  {
   "cell_type": "code",
   "execution_count": 447,
   "metadata": {},
   "outputs": [
    {
     "name": "stdout",
     "output_type": "stream",
     "text": [
      "whichSet train\n",
      "dataset naverlabs\n",
      "dbImage 10000\n",
      "utmDb 10000\n",
      "qImage 7320\n",
      "utmQ 7320\n",
      "numDb 10000\n",
      "numQ 7320\n",
      "posDistThr 2.5\n",
      "posDistSqThr 6.25\n",
      "nonTrivPosDistSqThr 10.0\n"
     ]
    }
   ],
   "source": [
    "my_train_dbStruct = my_parse_dbStruct('train')\n",
    "print('whichSet', my_train_dbStruct[0])\n",
    "print('dataset', my_train_dbStruct[1])\n",
    "print('dbImage', len(my_train_dbStruct[2]))\n",
    "print('utmDb', len(my_train_dbStruct[3]))\n",
    "print('qImage', len(my_train_dbStruct[4]))\n",
    "print('utmQ', len(my_train_dbStruct[5]))\n",
    "print('numDb',my_train_dbStruct[6])\n",
    "print('numQ',my_train_dbStruct[7])\n",
    "print('posDistThr',my_train_dbStruct[8])\n",
    "print('posDistSqThr',my_train_dbStruct[9])\n",
    "print('nonTrivPosDistSqThr',my_train_dbStruct[10])"
   ]
  },
  {
   "cell_type": "code",
   "execution_count": 448,
   "metadata": {},
   "outputs": [
    {
     "name": "stdout",
     "output_type": "stream",
     "text": [
      "whichSet val\n",
      "dataset naverlabs\n",
      "dbImage 10000\n",
      "utmDb 10000\n",
      "qImage 7658\n",
      "utmQ 7658\n",
      "numDb 10000\n",
      "numQ 7658\n",
      "posDistThr 2.5\n",
      "posDistSqThr 6.25\n",
      "nonTrivPosDistSqThr 10.0\n"
     ]
    }
   ],
   "source": [
    "my_train_dbStruct = my_parse_dbStruct('val')\n",
    "print('whichSet', my_train_dbStruct[0])\n",
    "print('dataset', my_train_dbStruct[1])\n",
    "print('dbImage', len(my_train_dbStruct[2]))\n",
    "print('utmDb', len(my_train_dbStruct[3]))\n",
    "print('qImage', len(my_train_dbStruct[4]))\n",
    "print('utmQ', len(my_train_dbStruct[5]))\n",
    "print('numDb',my_train_dbStruct[6])\n",
    "print('numQ',my_train_dbStruct[7])\n",
    "print('posDistThr',my_train_dbStruct[8])\n",
    "print('posDistSqThr',my_train_dbStruct[9])\n",
    "print('nonTrivPosDistSqThr',my_train_dbStruct[10])"
   ]
  },
  {
   "cell_type": "code",
   "execution_count": null,
   "metadata": {},
   "outputs": [],
   "source": []
  },
  {
   "cell_type": "code",
   "execution_count": null,
   "metadata": {},
   "outputs": [],
   "source": []
  },
  {
   "cell_type": "code",
   "execution_count": 449,
   "metadata": {},
   "outputs": [],
   "source": [
    "gt_path = '/home/ubuntu/Desktop/visual-localization-challenge-2020/indoor_dataset/1f/train/2019-04-16_14-35-00/groundtruth.hdf5'"
   ]
  },
  {
   "cell_type": "code",
   "execution_count": 450,
   "metadata": {},
   "outputs": [],
   "source": [
    "utmDb = []\n",
    "f = h5py.File(gt_path, \"r\")\n",
    "utmDb.append(np.array(f['22970285_pose']))\n",
    "utmDb.append(np.array(f['22970286_pose']))\n",
    "utmDb.append(np.array(f['22970288_pose']))\n",
    "utmDb.append(np.array(f['22970289_pose']))   \n",
    "utmDb = np.vstack(utmDb)[:10000,:2]"
   ]
  },
  {
   "cell_type": "code",
   "execution_count": 461,
   "metadata": {},
   "outputs": [],
   "source": [
    "stamp = np.array(f['22970285_stamp'])"
   ]
  },
  {
   "cell_type": "code",
   "execution_count": 482,
   "metadata": {},
   "outputs": [
    {
     "ename": "IndexError",
     "evalue": "index 2705 is out of bounds for axis 0 with size 2705",
     "output_type": "error",
     "traceback": [
      "\u001b[0;31m---------------------------------------------------------------------------\u001b[0m",
      "\u001b[0;31mIndexError\u001b[0m                                Traceback (most recent call last)",
      "\u001b[0;32m<ipython-input-482-07c1bbb9988c>\u001b[0m in \u001b[0;36m<module>\u001b[0;34m()\u001b[0m\n\u001b[1;32m      1\u001b[0m \u001b[0;32mfor\u001b[0m \u001b[0midx\u001b[0m\u001b[0;34m,\u001b[0m \u001b[0mstr\u001b[0m \u001b[0;32min\u001b[0m \u001b[0menumerate\u001b[0m\u001b[0;34m(\u001b[0m\u001b[0mmy_train_dbStruct\u001b[0m\u001b[0;34m[\u001b[0m\u001b[0;36m2\u001b[0m\u001b[0;34m]\u001b[0m\u001b[0;34m)\u001b[0m\u001b[0;34m:\u001b[0m\u001b[0;34m\u001b[0m\u001b[0;34m\u001b[0m\u001b[0m\n\u001b[1;32m      2\u001b[0m     \u001b[0mstamp_from_iamge_file\u001b[0m \u001b[0;34m=\u001b[0m \u001b[0mstr\u001b[0m\u001b[0;34m.\u001b[0m\u001b[0msplit\u001b[0m\u001b[0;34m(\u001b[0m\u001b[0;34m'_'\u001b[0m\u001b[0;34m)\u001b[0m\u001b[0;34m[\u001b[0m\u001b[0;34m-\u001b[0m\u001b[0;36m1\u001b[0m\u001b[0;34m]\u001b[0m\u001b[0;34m.\u001b[0m\u001b[0msplit\u001b[0m\u001b[0;34m(\u001b[0m\u001b[0;34m'.'\u001b[0m\u001b[0;34m)\u001b[0m\u001b[0;34m[\u001b[0m\u001b[0;34m-\u001b[0m\u001b[0;36m2\u001b[0m\u001b[0;34m]\u001b[0m\u001b[0;34m\u001b[0m\u001b[0;34m\u001b[0m\u001b[0m\n\u001b[0;32m----> 3\u001b[0;31m     \u001b[0mstamp_from_gt_file\u001b[0m \u001b[0;34m=\u001b[0m \u001b[0mstamp\u001b[0m\u001b[0;34m[\u001b[0m\u001b[0midx\u001b[0m\u001b[0;34m]\u001b[0m\u001b[0;34m[\u001b[0m\u001b[0;36m0\u001b[0m\u001b[0;34m]\u001b[0m\u001b[0;34m\u001b[0m\u001b[0;34m\u001b[0m\u001b[0m\n\u001b[0m\u001b[1;32m      4\u001b[0m \u001b[0;34m\u001b[0m\u001b[0m\n\u001b[1;32m      5\u001b[0m     \u001b[0;32mif\u001b[0m \u001b[0;34m(\u001b[0m\u001b[0;32mnot\u001b[0m \u001b[0mint\u001b[0m\u001b[0;34m(\u001b[0m\u001b[0mstamp_from_iamge_file\u001b[0m\u001b[0;34m)\u001b[0m \u001b[0;34m==\u001b[0m \u001b[0mint\u001b[0m\u001b[0;34m(\u001b[0m\u001b[0mstamp_from_gt_file\u001b[0m\u001b[0;34m)\u001b[0m\u001b[0;34m)\u001b[0m\u001b[0;34m:\u001b[0m\u001b[0;34m\u001b[0m\u001b[0;34m\u001b[0m\u001b[0m\n",
      "\u001b[0;31mIndexError\u001b[0m: index 2705 is out of bounds for axis 0 with size 2705"
     ]
    }
   ],
   "source": [
    "for idx, str in enumerate(my_train_dbStruct[2]):    \n",
    "    stamp_from_iamge_file = str.split('_')[-1].split('.')[-2]\n",
    "    stamp_from_gt_file = stamp[idx][0]\n",
    "    \n",
    "    if (not int(stamp_from_iamge_file) == int(stamp_from_gt_file)):\n",
    "        print('not match', idx)\n",
    "        print(stamp_from_iamge_file,stamp_from_gt_file)"
   ]
  },
  {
   "cell_type": "code",
   "execution_count": null,
   "metadata": {},
   "outputs": [],
   "source": []
  }
 ],
 "metadata": {
  "kernelspec": {
   "display_name": "Python 3",
   "language": "python",
   "name": "python3"
  },
  "language_info": {
   "codemirror_mode": {
    "name": "ipython",
    "version": 3
   },
   "file_extension": ".py",
   "mimetype": "text/x-python",
   "name": "python",
   "nbconvert_exporter": "python",
   "pygments_lexer": "ipython3",
   "version": "3.6.10"
  }
 },
 "nbformat": 4,
 "nbformat_minor": 2
}
