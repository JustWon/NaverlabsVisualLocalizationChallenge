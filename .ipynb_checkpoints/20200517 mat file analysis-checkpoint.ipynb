{
 "cells": [
  {
   "cell_type": "code",
   "execution_count": 3,
   "metadata": {},
   "outputs": [],
   "source": [
    "from scipy.io import loadmat"
   ]
  },
  {
   "cell_type": "code",
   "execution_count": 4,
   "metadata": {},
   "outputs": [],
   "source": [
    "def parse_dbStruct(path):\n",
    "    mat = loadmat(path)\n",
    "    matStruct = mat['dbStruct'].item()\n",
    "\n",
    "    if '250k' in path.split('/')[-1]:\n",
    "        dataset = 'pitts250k'\n",
    "    else:\n",
    "        dataset = 'pitts30k'\n",
    "\n",
    "    whichSet = matStruct[0].item()\n",
    "\n",
    "    dbImage = [f[0].item() for f in matStruct[1]]\n",
    "    utmDb = matStruct[2].T\n",
    "\n",
    "    qImage = [f[0].item() for f in matStruct[3]]\n",
    "    utmQ = matStruct[4].T\n",
    "\n",
    "    numDb = matStruct[5].item()\n",
    "    numQ = matStruct[6].item()\n",
    "\n",
    "    posDistThr = matStruct[7].item()\n",
    "    posDistSqThr = matStruct[8].item()\n",
    "    nonTrivPosDistSqThr = matStruct[9].item()\n",
    "\n",
    "    return dbStruct(whichSet, dataset, dbImage, utmDb, qImage, \n",
    "            utmQ, numDb, numQ, posDistThr, \n",
    "            posDistSqThr, nonTrivPosDistSqThr)"
   ]
  },
  {
   "cell_type": "code",
   "execution_count": 5,
   "metadata": {},
   "outputs": [
    {
     "ename": "NameError",
     "evalue": "name 'dbStruct' is not defined",
     "output_type": "error",
     "traceback": [
      "\u001b[0;31m---------------------------------------------------------------------------\u001b[0m",
      "\u001b[0;31mNameError\u001b[0m                                 Traceback (most recent call last)",
      "\u001b[0;32m<ipython-input-5-be3fff8fa45c>\u001b[0m in \u001b[0;36m<module>\u001b[0;34m()\u001b[0m\n\u001b[0;32m----> 1\u001b[0;31m \u001b[0mdbStruct\u001b[0m\u001b[0;34m=\u001b[0m \u001b[0mparse_dbStruct\u001b[0m\u001b[0;34m(\u001b[0m\u001b[0;34m'/home/ubuntu/Desktop/Pittsburgh/datasets/pitts30k_train.mat'\u001b[0m\u001b[0;34m)\u001b[0m\u001b[0;34m\u001b[0m\u001b[0;34m\u001b[0m\u001b[0m\n\u001b[0m",
      "\u001b[0;32m<ipython-input-4-4a9c2537e712>\u001b[0m in \u001b[0;36mparse_dbStruct\u001b[0;34m(path)\u001b[0m\n\u001b[1;32m     23\u001b[0m     \u001b[0mnonTrivPosDistSqThr\u001b[0m \u001b[0;34m=\u001b[0m \u001b[0mmatStruct\u001b[0m\u001b[0;34m[\u001b[0m\u001b[0;36m9\u001b[0m\u001b[0;34m]\u001b[0m\u001b[0;34m.\u001b[0m\u001b[0mitem\u001b[0m\u001b[0;34m(\u001b[0m\u001b[0;34m)\u001b[0m\u001b[0;34m\u001b[0m\u001b[0;34m\u001b[0m\u001b[0m\n\u001b[1;32m     24\u001b[0m \u001b[0;34m\u001b[0m\u001b[0m\n\u001b[0;32m---> 25\u001b[0;31m     return dbStruct(whichSet, dataset, dbImage, utmDb, qImage, \n\u001b[0m\u001b[1;32m     26\u001b[0m             \u001b[0mutmQ\u001b[0m\u001b[0;34m,\u001b[0m \u001b[0mnumDb\u001b[0m\u001b[0;34m,\u001b[0m \u001b[0mnumQ\u001b[0m\u001b[0;34m,\u001b[0m \u001b[0mposDistThr\u001b[0m\u001b[0;34m,\u001b[0m\u001b[0;34m\u001b[0m\u001b[0;34m\u001b[0m\u001b[0m\n\u001b[1;32m     27\u001b[0m             posDistSqThr, nonTrivPosDistSqThr)\n",
      "\u001b[0;31mNameError\u001b[0m: name 'dbStruct' is not defined"
     ]
    }
   ],
   "source": [
    "dbStruct = parse_dbStruct('/home/ubuntu/Desktop/Pittsburgh/datasets/pitts30k_train.mat')"
   ]
  },
  {
   "cell_type": "code",
   "execution_count": null,
   "metadata": {},
   "outputs": [],
   "source": []
  }
 ],
 "metadata": {
  "kernelspec": {
   "display_name": "Python 3",
   "language": "python",
   "name": "python3"
  },
  "language_info": {
   "codemirror_mode": {
    "name": "ipython",
    "version": 3
   },
   "file_extension": ".py",
   "mimetype": "text/x-python",
   "name": "python",
   "nbconvert_exporter": "python",
   "pygments_lexer": "ipython3",
   "version": "3.6.10"
  }
 },
 "nbformat": 4,
 "nbformat_minor": 2
}
