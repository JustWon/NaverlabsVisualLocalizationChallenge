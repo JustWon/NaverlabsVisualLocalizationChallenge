{
 "cells": [
  {
   "cell_type": "code",
   "execution_count": 1,
   "metadata": {},
   "outputs": [],
   "source": [
    "import sys\n",
    "sys.path.append(\"/home/ubuntu/Desktop/SuperPoint-VO/\")"
   ]
  },
  {
   "cell_type": "code",
   "execution_count": 2,
   "metadata": {},
   "outputs": [],
   "source": [
    "from norm_visual_odometry import PinholeCamera, VisualOdometry"
   ]
  },
  {
   "cell_type": "code",
   "execution_count": null,
   "metadata": {},
   "outputs": [],
   "source": [
    "class SP_VisualOdometry:\n",
    "    def __init__(self, cam, annotations):\n",
    "        self.frame_stage = 0\n",
    "        self.cam = cam\n",
    "        self.new_frame = None\n",
    "        self.last_frame = None\n",
    "        self.cur_R = None\n",
    "        self.cur_t = None\n",
    "        self.px_ref = None\n",
    "        self.px_cur = None\n",
    "        self.focal = cam.fx\n",
    "        self.pp = (cam.cx, cam.cy)\n",
    "        self.trueX, self.trueY, self.trueZ = 0, 0, 0\n",
    "        self.detector = SuperPointFrontend(weights_path=\"/home/ubuntu/Desktop/SuperPoint-VO/weights/superpoint_v1.pth\",\n",
    "                                           nms_dist=4,\n",
    "                                           conf_thresh=0.015,\n",
    "                                           nn_thresh=0.7,\n",
    "                                           cuda=True)\n",
    "        self.tracker = PointTracker(max_length=2, nn_thresh=self.detector.nn_thresh)\n",
    "\n",
    "    def featureTracking(self):\n",
    "        pts, desc, heatmap = self.detector.run(self.new_frame)\n",
    "        # Add points and descriptors to the tracker.\n",
    "        self.tracker.update(pts, desc)\n",
    "        # Get tracks for points which were match successfully across all frames.\n",
    "        tracks = self.tracker.get_tracks(min_length=1)\n",
    "        # Normalize track scores to [0,1].\n",
    "        tracks[:, 1] /= float(self.detector.nn_thresh)\n",
    "        kp1, kp2 = self.tracker.draw_tracks(tracks)\n",
    "        return kp1, kp2"
   ]
  },
  {
   "cell_type": "code",
   "execution_count": 4,
   "metadata": {},
   "outputs": [],
   "source": [
    "cam_param = PinholeCamera(2048, 1536, 1725.842032333, 1725.842032333, 1024.0, 768.0)"
   ]
  },
  {
   "cell_type": "code",
   "execution_count": 5,
   "metadata": {},
   "outputs": [
    {
     "ename": "TypeError",
     "evalue": "expected str, bytes or os.PathLike object, not NoneType",
     "output_type": "error",
     "traceback": [
      "\u001b[0;31m---------------------------------------------------------------------------\u001b[0m",
      "\u001b[0;31mTypeError\u001b[0m                                 Traceback (most recent call last)",
      "\u001b[0;32m<ipython-input-5-c684230729ab>\u001b[0m in \u001b[0;36m<module>\u001b[0;34m()\u001b[0m\n\u001b[0;32m----> 1\u001b[0;31m \u001b[0msp_vo\u001b[0m \u001b[0;34m=\u001b[0m \u001b[0msp_VisualOdometry\u001b[0m\u001b[0;34m(\u001b[0m\u001b[0mcam_param\u001b[0m\u001b[0;34m,\u001b[0m \u001b[0;32mNone\u001b[0m\u001b[0;34m)\u001b[0m\u001b[0;34m\u001b[0m\u001b[0m\n\u001b[0m",
      "\u001b[0;32m~/Desktop/SuperPoint-VO/sp_visual_odometry.py\u001b[0m in \u001b[0;36m__init__\u001b[0;34m(self, cam, annotations)\u001b[0m\n\u001b[1;32m     43\u001b[0m         self.tracker = PointTracker(\n\u001b[1;32m     44\u001b[0m             max_length=2, nn_thresh=self.detector.nn_thresh)\n\u001b[0;32m---> 45\u001b[0;31m         \u001b[0;32mwith\u001b[0m \u001b[0mopen\u001b[0m\u001b[0;34m(\u001b[0m\u001b[0mannotations\u001b[0m\u001b[0;34m)\u001b[0m \u001b[0;32mas\u001b[0m \u001b[0mf\u001b[0m\u001b[0;34m:\u001b[0m\u001b[0;34m\u001b[0m\u001b[0m\n\u001b[0m\u001b[1;32m     46\u001b[0m             \u001b[0mself\u001b[0m\u001b[0;34m.\u001b[0m\u001b[0mannotations\u001b[0m \u001b[0;34m=\u001b[0m \u001b[0mf\u001b[0m\u001b[0;34m.\u001b[0m\u001b[0mreadlines\u001b[0m\u001b[0;34m(\u001b[0m\u001b[0;34m)\u001b[0m\u001b[0;34m\u001b[0m\u001b[0m\n\u001b[1;32m     47\u001b[0m \u001b[0;34m\u001b[0m\u001b[0m\n",
      "\u001b[0;31mTypeError\u001b[0m: expected str, bytes or os.PathLike object, not NoneType"
     ]
    }
   ],
   "source": [
    "sp_vo = sp_VisualOdometry(cam_param, None)"
   ]
  },
  {
   "cell_type": "code",
   "execution_count": null,
   "metadata": {},
   "outputs": [],
   "source": [
    "px_ref, px_cur = featureTracking()"
   ]
  }
 ],
 "metadata": {
  "kernelspec": {
   "display_name": "Environment (conda_pytorch_p36)",
   "language": "python",
   "name": "conda_pytorch_p36"
  },
  "language_info": {
   "codemirror_mode": {
    "name": "ipython",
    "version": 3
   },
   "file_extension": ".py",
   "mimetype": "text/x-python",
   "name": "python",
   "nbconvert_exporter": "python",
   "pygments_lexer": "ipython3",
   "version": "3.6.5"
  }
 },
 "nbformat": 4,
 "nbformat_minor": 2
}
