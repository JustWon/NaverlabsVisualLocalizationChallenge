{
 "cells": [
  {
   "cell_type": "code",
   "execution_count": 1,
   "metadata": {},
   "outputs": [],
   "source": [
    "import open3d as o3d\n",
    "import numpy as np\n",
    "from scipy.spatial.transform import Rotation as R\n",
    "import matplotlib.pyplot as plt"
   ]
  },
  {
   "cell_type": "code",
   "execution_count": 13,
   "metadata": {},
   "outputs": [
    {
     "name": "stdout",
     "output_type": "stream",
     "text": [
      "Testing IO for point cloud ...\n"
     ]
    }
   ],
   "source": [
    "pcd = o3d.io.read_point_cloud(\"/home/ubuntu/Desktop/visual-localization-challenge-2020/indoor_dataset/1f/train/2019-04-16_14-35-00/map.pcd\")"
   ]
  },
  {
   "cell_type": "code",
   "execution_count": 14,
   "metadata": {},
   "outputs": [],
   "source": [
    "pcd_tree = o3d.geometry.KDTreeFlann(pcd)"
   ]
  },
  {
   "cell_type": "code",
   "execution_count": null,
   "metadata": {},
   "outputs": [],
   "source": [
    "[ 4.8782693e+02 -3.9773367e+02  2.2931693e+00\n",
    "  7.3345637e-01 -6.1391729e-01  1.8606678e-01 -2.2478095e-01]"
   ]
  },
  {
   "cell_type": "code",
   "execution_count": 15,
   "metadata": {},
   "outputs": [],
   "source": [
    "camera_pose = [4.8782693e+02, -3.9773367e+02,  2.2931693e+00  ]"
   ]
  },
  {
   "cell_type": "code",
   "execution_count": 16,
   "metadata": {},
   "outputs": [
    {
     "name": "stdout",
     "output_type": "stream",
     "text": [
      "Find its neighbors with distance less than 10, paint green.\n"
     ]
    }
   ],
   "source": [
    "print(\"Find its neighbors with distance less than 10, paint green.\")\n",
    "[k, idx, _] = pcd_tree.search_radius_vector_3d(camera_pose, 10.0)"
   ]
  },
  {
   "cell_type": "code",
   "execution_count": 17,
   "metadata": {},
   "outputs": [
    {
     "data": {
      "text/plain": [
       "2909448"
      ]
     },
     "execution_count": 17,
     "metadata": {},
     "output_type": "execute_result"
    }
   ],
   "source": [
    "k"
   ]
  },
  {
   "cell_type": "code",
   "execution_count": 18,
   "metadata": {},
   "outputs": [],
   "source": [
    "A = np.array([[1725.842032333, 0.0, 1024.0],\n",
    "              [0.0, 1725.842032333, 768.0],\n",
    "              [0.0, 0.0, 1.0]])"
   ]
  },
  {
   "cell_type": "code",
   "execution_count": 19,
   "metadata": {},
   "outputs": [],
   "source": [
    "Rt = np.array([[1,0,0,4.8782693e+02],\n",
    "               [0,1,0,-3.9773367e+02],\n",
    "               [0,0,1,2.2931693e+00],\n",
    "               [0,0,0,1]])"
   ]
  },
  {
   "cell_type": "code",
   "execution_count": 20,
   "metadata": {},
   "outputs": [],
   "source": [
    "r = R.from_quat([7.3345637e-01, -6.1391729e-01,  1.8606678e-01, -2.2478095e-01])"
   ]
  },
  {
   "cell_type": "code",
   "execution_count": 21,
   "metadata": {},
   "outputs": [],
   "source": [
    "Rt[:3,:3] = r.as_matrix()"
   ]
  },
  {
   "cell_type": "code",
   "execution_count": 22,
   "metadata": {},
   "outputs": [
    {
     "name": "stdout",
     "output_type": "stream",
     "text": [
      "[[ 1.76969435e-01 -8.16914553e-01  5.48937549e-01  4.87826930e+02]\n",
      " [-9.84211622e-01 -1.45158178e-01  1.01274812e-01 -3.97733670e+02]\n",
      " [-3.05009324e-03 -5.58193262e-01 -8.29705357e-01  2.29316930e+00]\n",
      " [ 0.00000000e+00  0.00000000e+00  0.00000000e+00  1.00000000e+00]]\n"
     ]
    }
   ],
   "source": [
    "print(Rt)"
   ]
  },
  {
   "cell_type": "code",
   "execution_count": 23,
   "metadata": {},
   "outputs": [],
   "source": [
    "projected_img = np.zeros((1536,2048))\n",
    "\n",
    "for point in np.asarray(pcd.points)[idx]:\n",
    "    point3d_local = np.linalg.inv(Rt)@(np.asarray([point[0],point[1],point[2],1]))\n",
    "    projected_point = A@point3d_local[:3]\n",
    "    hnormalized_point = projected_point/projected_point[2]\n",
    "    \n",
    "    if (0 <= hnormalized_point[0] and hnormalized_point[0] <= 2048 and\n",
    "        0 <= hnormalized_point[1] and hnormalized_point[1] <= 1536):\n",
    "        projected_img[int(hnormalized_point[1]), int(hnormalized_point[0])] = 0.1"
   ]
  },
  {
   "cell_type": "code",
   "execution_count": 24,
   "metadata": {},
   "outputs": [
    {
     "data": {
      "text/plain": [
       "<matplotlib.image.AxesImage at 0x7feea0c57860>"
      ]
     },
     "execution_count": 24,
     "metadata": {},
     "output_type": "execute_result"
    },
    {
     "data": {
      "image/png": "[encoded data removed]",
      "text/plain": [
       "<Figure size 432x288 with 1 Axes>"
      ]
     },
     "metadata": {},
     "output_type": "display_data"
    }
   ],
   "source": [
    "plt.imshow(projected_img)"
   ]
  },
  {
   "cell_type": "code",
   "execution_count": null,
   "metadata": {},
   "outputs": [],
   "source": []
  }
 ],
 "metadata": {
  "kernelspec": {
   "display_name": "Environment (conda_pytorch_p36)",
   "language": "python",
   "name": "conda_pytorch_p36"
  },
  "language_info": {
   "codemirror_mode": {
    "name": "ipython",
    "version": 3
   },
   "file_extension": ".py",
   "mimetype": "text/x-python",
   "name": "python",
   "nbconvert_exporter": "python",
   "pygments_lexer": "ipython3",
   "version": "3.6.5"
  }
 },
 "nbformat": 4,
 "nbformat_minor": 2
}
